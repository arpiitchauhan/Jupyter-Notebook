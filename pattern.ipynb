{
 "cells": [
  {
   "cell_type": "markdown",
   "metadata": {},
   "source": [
    "## ***Patterns in Python***"
   ]
  },
  {
   "cell_type": "markdown",
   "metadata": {},
   "source": [
    "## **ALL TYPES OF RECTANGLE SHAPED PATTERNS :-**"
   ]
  },
  {
   "cell_type": "markdown",
   "metadata": {},
   "source": [
    "# Solid Rectangle Pattern"
   ]
  },
  {
   "cell_type": "code",
   "execution_count": 1,
   "metadata": {},
   "outputs": [
    {
     "name": "stdout",
     "output_type": "stream",
     "text": [
      "\n",
      "Solid Rectange pattern :\n",
      "\n",
      "* * * * * * * \n",
      "\n",
      "* * * * * * * \n",
      "\n",
      "* * * * * * * \n",
      "\n",
      "* * * * * * * \n",
      "\n",
      "* * * * * * * \n",
      "\n"
     ]
    }
   ],
   "source": [
    "def solid_rectangle(rows = 4, columns = 11):\n",
    "    print('\\nSolid Rectange pattern :\\n')\n",
    "    for i in range(rows):\n",
    "        for j in range(columns):\n",
    "            print('* ', end='')\n",
    "        print('\\n')\n",
    "\n",
    "user_input = input('\\nEnter rows and columns for Solid Rectangle pattern separated by comma : ')\n",
    "\n",
    "\n",
    "try:\n",
    "    rows = int(user_input.split(\",\")[0].strip())\n",
    "    columns = int(user_input.split(\",\")[1].strip())\n",
    "    solid_rectangle(rows, columns)\n",
    "except Exception as e:\n",
    "    print(\"Invalid input. Using default values, rows = 4 and columns = 11.\")\n",
    "    solid_rectangle()  # Use default values in case of invalid input\n",
    "    print(f'\\nDue to invalid input following error occurred: {e}')"
   ]
  },
  {
   "cell_type": "markdown",
   "metadata": {},
   "source": [
    "## Hollow Rectange Pattern"
   ]
  },
  {
   "cell_type": "code",
   "execution_count": 2,
   "metadata": {},
   "outputs": [
    {
     "name": "stdout",
     "output_type": "stream",
     "text": [
      "Invalid input. Using default values, rows = 4 and columns = 11.\n",
      "\n",
      "Hollow Rectange pattern :\n",
      "\n",
      "* * * * * * * * * * * \n",
      "\n",
      "*                   * \n",
      "\n",
      "*                   * \n",
      "\n",
      "* * * * * * * * * * * \n",
      "\n",
      "\n",
      "Due to invalid input following error occurred: list index out of range\n"
     ]
    }
   ],
   "source": [
    "def hollow_rectangle(rows = 4, columns = 11):\n",
    "    print('\\nHollow Rectange pattern :\\n')\n",
    "    for i in range(rows):\n",
    "        for j in range(columns):\n",
    "            if (i == 0 or i == rows-1 or j == 0 or j == columns-1):\n",
    "                print('* ',end='')\n",
    "            else:\n",
    "                print('  ',end='')\n",
    "        print('\\n')\n",
    "\n",
    "user_input = list(input('\\nEnter rows and columns for Hollow Rectangle pattern separated by comma : ').split(','))\n",
    "\n",
    "try:\n",
    "    rows = int(user_input[0])\n",
    "    columns = int(user_input[1])\n",
    "    hollow_rectangle(rows, columns)\n",
    "except Exception as e:\n",
    "    print(\"Invalid input. Using default values, rows = 4 and columns = 11.\")\n",
    "    hollow_rectangle()  # Use default values in case of invalid input\n",
    "    print(f'\\nDue to invalid input following error occurred: {e}')"
   ]
  },
  {
   "cell_type": "markdown",
   "metadata": {},
   "source": [
    "## Concentric Numeric Square"
   ]
  },
  {
   "cell_type": "code",
   "execution_count": 3,
   "metadata": {},
   "outputs": [
    {
     "name": "stdout",
     "output_type": "stream",
     "text": [
      "\n",
      "Concentric Numeric Square pattern :\n",
      "\n",
      "5 5 5 5 5 5 5 5 5 \n",
      "\n",
      "5 4 4 4 4 4 4 4 5 \n",
      "\n",
      "5 4 3 3 3 3 3 4 5 \n",
      "\n",
      "5 4 3 2 2 2 3 4 5 \n",
      "\n",
      "5 4 3 2 1 2 3 4 5 \n",
      "\n",
      "5 4 3 2 2 2 3 4 5 \n",
      "\n",
      "5 4 3 3 3 3 3 4 5 \n",
      "\n",
      "5 4 4 4 4 4 4 4 5 \n",
      "\n",
      "5 5 5 5 5 5 5 5 5 \n",
      "\n"
     ]
    }
   ],
   "source": [
    "def concentric_numeric_square(n = 5):\n",
    "    print('\\nConcentric Numeric Square pattern :\\n')\n",
    "    size = 2*n-1\n",
    "    matrix = [[0 for _ in range(size)]for _ in range(size)]\n",
    "    # defining a two-dimensional matrix with size, each of size\n",
    "    start = 0\n",
    "    end = size-1\n",
    "    # storing the values in matrix storing value of n in the boundary so we need to repeat the while loop n times\n",
    "    while n > 0:\n",
    "        for row in range(start, end+1):\n",
    "            for column in range(start, end+1):\n",
    "                matrix[row][column] = n\n",
    "        start+=1\n",
    "        end-=1\n",
    "        n-=1\n",
    "    \n",
    "    #printing the matrix\n",
    "    for row in range(size):\n",
    "        for column in range(size):\n",
    "            print(f'{matrix[row][column]} ', end='')\n",
    "        print('\\n')\n",
    "\n",
    "try:\n",
    "    user_input = int(input('\\nEnter no. for concentric numeric square pattern : '))\n",
    "    concentric_numeric_square(user_input)\n",
    "except Exception as e:\n",
    "    print(\"Invalid input. Using default values, n = 5.\")\n",
    "    concentric_numeric_square()  # Use default values in case of invalid input\n",
    "    print(f'\\nDue to invalid input following error occurred: {e}')"
   ]
  },
  {
   "cell_type": "markdown",
   "metadata": {},
   "source": [
    "## **ALL TYPES OF TRIANGLE SHAPED PATTERNS :-**"
   ]
  },
  {
   "cell_type": "markdown",
   "metadata": {},
   "source": [
    "## Triangle Pattern"
   ]
  },
  {
   "cell_type": "code",
   "execution_count": 4,
   "metadata": {},
   "outputs": [
    {
     "name": "stdout",
     "output_type": "stream",
     "text": [
      "\n",
      "Triangle pattern :\n",
      "\n",
      "* \n",
      "\n",
      "* * \n",
      "\n",
      "* * * \n",
      "\n",
      "* * * * \n",
      "\n",
      "* * * * * \n",
      "\n"
     ]
    }
   ],
   "source": [
    "def triangle(n = 5):\n",
    "    print('\\nTriangle pattern :\\n')\n",
    "    for row in range(n):\n",
    "        for column in range(row+1):\n",
    "            print('* ',end='')\n",
    "        print('\\n')\n",
    "\n",
    "try:\n",
    "    user_input = int(input('\\nEnter no. of lines for Triangle pattern : '))\n",
    "    triangle(user_input)\n",
    "except Exception as e:\n",
    "    print(\"Invalid input. Using default values, n = 5.\")\n",
    "    triangle()  # Use default values in case of invalid input\n",
    "    print(f'\\nDue to invalid input following error occurred: {e}')"
   ]
  },
  {
   "cell_type": "markdown",
   "metadata": {},
   "source": [
    "## Inverted Triangle Pattern"
   ]
  },
  {
   "cell_type": "code",
   "execution_count": 5,
   "metadata": {},
   "outputs": [
    {
     "name": "stdout",
     "output_type": "stream",
     "text": [
      "\n",
      "Inverted Triangle pattern :\n",
      "\n",
      "* * * * * \n",
      "\n",
      "* * * * \n",
      "\n",
      "* * * \n",
      "\n",
      "* * \n",
      "\n",
      "* \n",
      "\n"
     ]
    }
   ],
   "source": [
    "def inverted_triangle(n = 5):\n",
    "    print('\\nInverted Triangle pattern :\\n')\n",
    "    for row in range(n):\n",
    "        for column in range(n-row):\n",
    "            print('* ',end='')\n",
    "        print('\\n')\n",
    "\n",
    "try:\n",
    "    user_input = int(input('\\nEnter no. of lines for Inverted Triangle pattern : '))\n",
    "    inverted_triangle(user_input)\n",
    "except Exception as e:\n",
    "    print(\"Invalid input. Using default values, n = 5.\")\n",
    "    inverted_triangle()  # Use default values in case of invalid input\n",
    "    print(f'\\nDue to invalid input following error occurred: {e}')"
   ]
  },
  {
   "cell_type": "markdown",
   "metadata": {},
   "source": [
    "## Numeric Triangle Pattern"
   ]
  },
  {
   "cell_type": "code",
   "execution_count": 6,
   "metadata": {},
   "outputs": [
    {
     "name": "stdout",
     "output_type": "stream",
     "text": [
      "\n",
      "Numeric Triangle pattern :\n",
      "\n",
      "1 \n",
      "\n",
      "1 2 \n",
      "\n",
      "1 2 3 \n",
      "\n",
      "1 2 3 4 \n",
      "\n",
      "1 2 3 4 5 \n",
      "\n"
     ]
    }
   ],
   "source": [
    "def numeric_triangle(n = 5):\n",
    "    print('\\nNumeric Triangle pattern :\\n')\n",
    "    for row in range(n):\n",
    "        for column in range(row+1):\n",
    "            print(f'{column + 1} ',end='')\n",
    "        print('\\n')\n",
    "    \n",
    "try:\n",
    "    user_input = int(input('\\nEnter no. of lines for Numeric Triangle pattern : '))\n",
    "    numeric_triangle(user_input)\n",
    "except Exception as e:\n",
    "    print(\"Invalid input. Using default values, n = 5.\")\n",
    "    numeric_triangle()  # Use default values in case of invalid input\n",
    "    print(f'\\nDue to invalid input following error occurred: {e}')"
   ]
  },
  {
   "cell_type": "markdown",
   "metadata": {},
   "source": [
    "## Inverted Numeric Triangle"
   ]
  },
  {
   "cell_type": "code",
   "execution_count": 7,
   "metadata": {},
   "outputs": [
    {
     "name": "stdout",
     "output_type": "stream",
     "text": [
      "\n",
      "Inverted Numeric Triangle pattern :\n",
      "\n",
      "1 2 3 4 5 \n",
      "\n",
      "1 2 3 4 \n",
      "\n",
      "1 2 3 \n",
      "\n",
      "1 2 \n",
      "\n",
      "1 \n",
      "\n"
     ]
    }
   ],
   "source": [
    "def inverted_numeric_triangle(n = 5):\n",
    "    print('\\nInverted Numeric Triangle pattern :\\n')\n",
    "    for row in range(n):\n",
    "        for column in range(n-row):\n",
    "            print(f'{column + 1} ',end='')\n",
    "        print('\\n')\n",
    "    \n",
    "try:\n",
    "    user_input = int(input('\\nEnter no. of lines for Inverted Numeric Triangle pattern : '))\n",
    "    inverted_numeric_triangle(user_input)\n",
    "except Exception as e:\n",
    "    print(\"Invalid input. Using default values, n = 5.\")\n",
    "    inverted_numeric_triangle()  # Use default values in case of invalid input\n",
    "    print(f'\\nDue to invalid input following error occurred: {e}')"
   ]
  },
  {
   "cell_type": "markdown",
   "metadata": {},
   "source": [
    "## Floyd's Triangle Pattern"
   ]
  },
  {
   "cell_type": "code",
   "execution_count": 8,
   "metadata": {},
   "outputs": [
    {
     "name": "stdout",
     "output_type": "stream",
     "text": [
      "\n",
      "Floyd's Triangle pattern :\n",
      "\n",
      "1 \n",
      "\n",
      "2 3 \n",
      "\n",
      "4 5 6 \n",
      "\n",
      "7 8 9 10 \n",
      "\n",
      "11 12 13 14 15 \n",
      "\n"
     ]
    }
   ],
   "source": [
    "def floyds_triangle(n = 5):\n",
    "    print(\"\\nFloyd's Triangle pattern :\\n\")\n",
    "    count = 1\n",
    "    for row in range(n):\n",
    "        for column in range(row+1):\n",
    "            print(f'{count} ',end='')\n",
    "            count += 1\n",
    "        print('\\n')\n",
    "\n",
    "try:\n",
    "    user_input = int(input(\"\\nEnter no. of lines for Floyd's triangle pattern : \"))\n",
    "    floyds_triangle(user_input)\n",
    "except Exception as e:\n",
    "    print(\"Invalid input. Using default values, n = 5.\")\n",
    "    floyds_triangle()  # Use default values in case of invalid input\n",
    "    print(f'\\nDue to invalid input following error occurred: {e}')"
   ]
  },
  {
   "cell_type": "markdown",
   "metadata": {},
   "source": [
    "## Pascal's Triangle Pattern"
   ]
  },
  {
   "cell_type": "code",
   "execution_count": 9,
   "metadata": {},
   "outputs": [
    {
     "name": "stdout",
     "output_type": "stream",
     "text": [
      "\n",
      "Pascal's Triangle pattern :\n",
      "\n",
      "1 \n",
      "\n",
      "1 1 \n",
      "\n",
      "1 2 1 \n",
      "\n",
      "1 3 3 1 \n",
      "\n",
      "1 4 6 4 1 \n",
      "\n"
     ]
    }
   ],
   "source": [
    "def pascals_triangle(n = 5):\n",
    "    print(\"\\nPascal's Triangle pattern :\\n\")\n",
    "    # formula of bionomial coefficient is required for pascal's triangle pattern\n",
    "    for row in range(1,n+1):\n",
    "        # note that row and column both must intialize from 1 as we cannot divide a number with 0\n",
    "        # and if we try to initialize them with 0 then formula is modified to :-\n",
    "        # c = c*(row-column)//(column+1) and column loop will still go range(row)\n",
    "        c = 1\n",
    "        for column in range(1,row+1):\n",
    "            print(f'{c} ',end='')\n",
    "            c = c*(row-column)//(column)\n",
    "        print('\\n')\n",
    "\n",
    "try:\n",
    "    user_input = int(input(\"\\nEnter no. of lines for Pascal's triangle pattern : \"))\n",
    "    pascals_triangle(user_input)\n",
    "except Exception as e:\n",
    "    print(\"Invalid input. Using default values, n = 5.\")\n",
    "    pascals_triangle()  # Use default values in case of invalid input\n",
    "    print(f'\\nDue to invalid input following error occurred: {e}')"
   ]
  },
  {
   "cell_type": "markdown",
   "metadata": {},
   "source": [
    "## Hollow Triangle"
   ]
  },
  {
   "cell_type": "code",
   "execution_count": 10,
   "metadata": {},
   "outputs": [
    {
     "name": "stdout",
     "output_type": "stream",
     "text": [
      "\n",
      "Hollow Triangle pattern :\n",
      "\n",
      "* \n",
      "\n",
      "* * \n",
      "\n",
      "*   * \n",
      "\n",
      "*     * \n",
      "\n",
      "* * * * * \n",
      "\n"
     ]
    }
   ],
   "source": [
    "def hollow_triangle(n = 5):\n",
    "    print('\\nHollow Triangle pattern :\\n')\n",
    "    for row in range(n):\n",
    "        for column in range(row+1):\n",
    "            if column == 0 or column == row or row == n-1:\n",
    "                print('* ',end='')\n",
    "            else:\n",
    "                print('  ',end='')\n",
    "        print('\\n')\n",
    "\n",
    "try:\n",
    "    user_input = int(input('\\nEnter no. of lines for Hollow Triangle pattern : '))\n",
    "    hollow_triangle(user_input)\n",
    "except Exception as e:\n",
    "    print(\"Invalid input. Using default values, n = 5.\")\n",
    "    triangle()  # Use default values in case of invalid input\n",
    "    print(f'\\nDue to invalid input following error occurred: {e}')"
   ]
  },
  {
   "cell_type": "markdown",
   "metadata": {},
   "source": [
    "## Hollow Inverted Triangle"
   ]
  },
  {
   "cell_type": "code",
   "execution_count": 11,
   "metadata": {},
   "outputs": [
    {
     "name": "stdout",
     "output_type": "stream",
     "text": [
      "\n",
      "Hollow Inverted Triangle pattern :\n",
      "\n",
      "* * * * * \n",
      "\n",
      "*     * \n",
      "\n",
      "*   * \n",
      "\n",
      "* * \n",
      "\n",
      "* \n",
      "\n"
     ]
    }
   ],
   "source": [
    "def hollow_inverted_triangle(n = 5):\n",
    "    print('\\nHollow Inverted Triangle pattern :\\n')\n",
    "    for row in range(n):\n",
    "        for column in range(n-row):\n",
    "            if column == 0 or column == n-row-1 or row == 0:\n",
    "                print('* ',end='')\n",
    "            else:\n",
    "                print('  ',end='')\n",
    "        print('\\n')\n",
    "\n",
    "try:\n",
    "    user_input = int(input('\\nEnter no. of lines for Hollow Inverted Triangle pattern : '))\n",
    "    hollow_inverted_triangle(user_input)\n",
    "except Exception as e:\n",
    "    print(\"Invalid input. Using default values, n = 5.\")\n",
    "    hollow_inverted_triangle()  # Use default values in case of invalid input\n",
    "    print(f'\\nDue to invalid input following error occurred: {e}')"
   ]
  },
  {
   "cell_type": "markdown",
   "metadata": {},
   "source": [
    "## Hollow Inverted Mirror Triangle"
   ]
  },
  {
   "cell_type": "code",
   "execution_count": 12,
   "metadata": {},
   "outputs": [
    {
     "name": "stdout",
     "output_type": "stream",
     "text": [
      "\n",
      "Hollow Inverted Mirror Triangle pattern :\n",
      "\n",
      "* * * * * \n",
      "\n",
      "  *     * \n",
      "\n",
      "    *   * \n",
      "\n",
      "      * * \n",
      "\n",
      "        * \n",
      "\n"
     ]
    }
   ],
   "source": [
    "def hollow_inverted_mirror_triangle(n = 5):\n",
    "    print('\\nHollow Inverted Mirror Triangle pattern :\\n')\n",
    "    for row in range(n):\n",
    "        for column in range(row):\n",
    "            print('  ',end='')\n",
    "        for column in range(n-row):\n",
    "            if column == 0 or column == n-row-1 or row == 0:\n",
    "                print('* ',end='')\n",
    "            else:\n",
    "                print('  ',end='')\n",
    "        print('\\n')\n",
    "\n",
    "try:\n",
    "    user_input = int(input('\\nEnter no. of lines for Hollow Inverted Mirror Triangle pattern : '))\n",
    "    hollow_inverted_mirror_triangle(user_input)\n",
    "except Exception as e:\n",
    "    print(\"Invalid input. Using default values, n = 5.\")\n",
    "    hollow_inverted_mirror_triangle()  # Use default values in case of invalid input\n",
    "    print(f'\\nDue to invalid input following error occurred: {e}')"
   ]
  },
  {
   "cell_type": "markdown",
   "metadata": {},
   "source": [
    "## Hollow Mirror Triangle"
   ]
  },
  {
   "cell_type": "code",
   "execution_count": 13,
   "metadata": {},
   "outputs": [
    {
     "name": "stdout",
     "output_type": "stream",
     "text": [
      "\n",
      "Hollow Mirror Triangle pattern :\n",
      "\n",
      "          * \n",
      "\n",
      "        * * \n",
      "\n",
      "      *   * \n",
      "\n",
      "    *     * \n",
      "\n",
      "  * * * * * \n",
      "\n"
     ]
    }
   ],
   "source": [
    "def hollow_mirror_triangle(n = 5):\n",
    "    print('\\nHollow Mirror Triangle pattern :\\n')\n",
    "    for row in range(n):\n",
    "        for column in range(n-row):\n",
    "            print('  ',end='')\n",
    "        for column in range(row+1):\n",
    "            if column == 0 or column == row or row == n-1:\n",
    "                print('* ',end='')\n",
    "            else:\n",
    "                print('  ',end='')\n",
    "        print('\\n')\n",
    "\n",
    "try:\n",
    "    user_input = int(input('\\nEnter no. of lines for Hollow Mirror Triangle pattern : '))\n",
    "    hollow_mirror_triangle(user_input)\n",
    "except Exception as e:\n",
    "    hollow_mirror_triangle()  # Use default values in case of invalid input\n",
    "    print(f'\\nDue to invalid input following error occurred: {e}')"
   ]
  },
  {
   "cell_type": "markdown",
   "metadata": {},
   "source": [
    "## **ALL TYPES OF PYRAMID SHAPED PATTERNS :-**"
   ]
  },
  {
   "cell_type": "markdown",
   "metadata": {},
   "source": [
    "## Pyramid"
   ]
  },
  {
   "cell_type": "code",
   "execution_count": 14,
   "metadata": {},
   "outputs": [
    {
     "name": "stdout",
     "output_type": "stream",
     "text": [
      "\n",
      "Pyramid pattern :\n",
      "\n",
      "    * \n",
      "\n",
      "   * * \n",
      "\n",
      "  * * * \n",
      "\n",
      " * * * * \n",
      "\n",
      "* * * * * \n",
      "\n"
     ]
    }
   ],
   "source": [
    "def pyramid(n = 5):\n",
    "    print('\\nPyramid pattern :\\n')\n",
    "    for row in range(n):\n",
    "        for column in range(n):\n",
    "            if column < n-row-1:\n",
    "                print(' ',end='')\n",
    "            else:\n",
    "                print('* ',end='')\n",
    "        print('\\n')\n",
    "    \n",
    "try:\n",
    "    user_input = int(input('\\nEnter no. of lines for Pyramid pattern : '))\n",
    "    pyramid(user_input)\n",
    "except Exception as e:\n",
    "    print(\"Invalid input. Using default values, n = 5.\")\n",
    "    pyramid()  # Use default values in case of invalid input\n",
    "    print(f'\\nDue to invalid input following error occurred: {e}')"
   ]
  },
  {
   "cell_type": "markdown",
   "metadata": {},
   "source": [
    "## Inverted Pyramid Pattern"
   ]
  },
  {
   "cell_type": "code",
   "execution_count": 15,
   "metadata": {},
   "outputs": [
    {
     "name": "stdout",
     "output_type": "stream",
     "text": [
      "\n",
      "Inverted Pyramid pattern :\n",
      "\n",
      "* * * * * \n",
      "\n",
      " * * * * \n",
      "\n",
      "  * * * \n",
      "\n",
      "   * * \n",
      "\n",
      "    * \n",
      "\n"
     ]
    }
   ],
   "source": [
    "def inverted_pyramid(n = 5):\n",
    "    print('\\nInverted Pyramid pattern :\\n')\n",
    "    for row in range(n):\n",
    "        for column in range(n):\n",
    "            if column < row:\n",
    "                print(' ',end='')\n",
    "            else:\n",
    "                print('* ',end='')\n",
    "        print('\\n')\n",
    "    \n",
    "try:\n",
    "    user_input = int(input('\\nEnter no. of lines for Inverted Pyramid pattern : '))\n",
    "    inverted_pyramid(user_input)\n",
    "except Exception as e:\n",
    "    print(\"Invalid input. Using default values, n = 5.\")\n",
    "    inverted_pyramid()  # Use default values in case of invalid input\n",
    "    print(f'\\nDue to invalid input following error occurred: {e}')"
   ]
  },
  {
   "cell_type": "markdown",
   "metadata": {},
   "source": [
    "## Solid Diamond Pattern"
   ]
  },
  {
   "cell_type": "code",
   "execution_count": 16,
   "metadata": {},
   "outputs": [
    {
     "name": "stdout",
     "output_type": "stream",
     "text": [
      "\n",
      "Solid Diamond pattern :\n",
      "\n",
      "    * \n",
      "\n",
      "   * * \n",
      "\n",
      "  * * * \n",
      "\n",
      " * * * * \n",
      "\n",
      "* * * * * \n",
      "\n",
      "* * * * * \n",
      "\n",
      " * * * * \n",
      "\n",
      "  * * * \n",
      "\n",
      "   * * \n",
      "\n",
      "    * \n",
      "\n"
     ]
    }
   ],
   "source": [
    "def solid_diamond(n=5):\n",
    "    print('\\nSolid Diamond pattern :\\n')\n",
    "    for row in range(n):\n",
    "        for column in range(n):\n",
    "            if column < n-row-1:\n",
    "                print(' ',end='')\n",
    "            else:\n",
    "                print('* ',end='')\n",
    "        print('\\n')\n",
    "    for row in range(n):\n",
    "        for column in range(n):\n",
    "            if column < row:\n",
    "                print(' ',end='')\n",
    "            else:\n",
    "                print('* ',end='')\n",
    "        print('\\n')\n",
    "\n",
    "try:\n",
    "    user_input = int(input('\\nEnter no. of lines for Solid Diamond Pattern :'))\n",
    "    solid_diamond(user_input)\n",
    "except Exception as e:\n",
    "    print(\"Invalid input. Using default values, n = 5.\")\n",
    "    solid_diamond()  # Use default values in case of invalid input\n",
    "    print(f'\\nDue to invalid input following error occurred: {e}')"
   ]
  },
  {
   "cell_type": "markdown",
   "metadata": {},
   "source": [
    "## Hollow Pyramid"
   ]
  },
  {
   "cell_type": "code",
   "execution_count": 17,
   "metadata": {},
   "outputs": [
    {
     "name": "stdout",
     "output_type": "stream",
     "text": [
      "\n",
      "Hollow Pyramid pattern :\n",
      "\n",
      "    * \n",
      "\n",
      "   * * \n",
      "\n",
      "  *   * \n",
      "\n",
      " *     * \n",
      "\n",
      "* * * * * \n",
      "\n"
     ]
    }
   ],
   "source": [
    "def hollow_pyramid(n = 5):\n",
    "    print('\\nHollow Pyramid pattern :\\n')\n",
    "    for row in range(n):\n",
    "        for column in range(n-row-1):\n",
    "                print(' ',end='')\n",
    "        for column in range(row+1):\n",
    "            if column == 0 or column == row or row == n-1:\n",
    "                print('* ',end='')\n",
    "            else:\n",
    "                print('  ',end='')\n",
    "        print('\\n')\n",
    "    \n",
    "try:\n",
    "    user_input = int(input('\\nEnter no. of lines for Hollow Pyramid pattern : '))\n",
    "    hollow_pyramid(user_input)\n",
    "except Exception as e:\n",
    "    print(\"Invalid input. Using default values, n = 5.\")\n",
    "    hollow_pyramid()  # Use default values in case of invalid input\n",
    "    print(f'\\nDue to invalid input following error occurred: {e}')"
   ]
  },
  {
   "cell_type": "markdown",
   "metadata": {},
   "source": [
    "## Hollow Diamond Pattern"
   ]
  },
  {
   "cell_type": "code",
   "execution_count": 18,
   "metadata": {},
   "outputs": [
    {
     "name": "stdout",
     "output_type": "stream",
     "text": [
      "\n",
      "Hollow Diamond pattern :\n",
      "\n",
      "    * \n",
      "\n",
      "   * * \n",
      "\n",
      "  *   * \n",
      "\n",
      " *     * \n",
      "\n",
      "*       * \n",
      "\n",
      "*       * \n",
      "\n",
      " *     * \n",
      "\n",
      "  *   * \n",
      "\n",
      "   * * \n",
      "\n",
      "    * \n",
      "\n"
     ]
    }
   ],
   "source": [
    "def hollow_diamond(n=5):\n",
    "    print('\\nHollow Diamond pattern :\\n')\n",
    "    for row in range(n):\n",
    "        for column in range(n-row-1):\n",
    "            print(' ',end='')\n",
    "        for column in range(row+1):\n",
    "            if column == 0 or column == row:\n",
    "                print('* ',end='')\n",
    "            else:\n",
    "                print('  ',end='')\n",
    "        print('\\n')\n",
    "    for row in range(n):\n",
    "        for column in range(row):\n",
    "            print(' ',end='')\n",
    "        for column in range(n-row):\n",
    "            if column == 0 or column == n-row-1:\n",
    "                print('* ',end='')\n",
    "            else:\n",
    "                print('  ',end='')\n",
    "        print('\\n')\n",
    "\n",
    "try:\n",
    "    user_input = int(input('\\nEnter no. of lines for Hollow Diamond Pattern :'))\n",
    "    hollow_diamond(user_input)\n",
    "except Exception as e:\n",
    "    print(\"Invalid input. Using default values, n = 5.\")\n",
    "    hollow_diamond()  # Use default values in case of invalid input\n",
    "    print(f'\\nDue to invalid input following error occurred: {e}')"
   ]
  },
  {
   "cell_type": "markdown",
   "metadata": {},
   "source": [
    "## Hollow Embedded Diamond Pattern"
   ]
  },
  {
   "cell_type": "code",
   "execution_count": 19,
   "metadata": {},
   "outputs": [
    {
     "name": "stdout",
     "output_type": "stream",
     "text": [
      "\n",
      "Hollow Embedded Diamond pattern :\n",
      "\n",
      "* * * * * * * * * * \n",
      "\n",
      "* * * *     * * * * \n",
      "\n",
      "* * *         * * * \n",
      "\n",
      "* *             * * \n",
      "\n",
      "*                 * \n",
      "\n",
      "*                 * \n",
      "\n",
      "* *             * * \n",
      "\n",
      "* * *         * * * \n",
      "\n",
      "* * * *     * * * * \n",
      "\n",
      "* * * * * * * * * * \n",
      "\n"
     ]
    }
   ],
   "source": [
    "def hollow_embedded_diamond(n=5):\n",
    "    print('\\nHollow Embedded Diamond pattern :\\n')\n",
    "    for row in range(n):\n",
    "        for column in range(n-row):\n",
    "            print('* ',end='')\n",
    "        for column in range(2*row):\n",
    "            print('  ',end='')\n",
    "        for column in range(n-row):\n",
    "            print('* ',end='')\n",
    "        print('\\n')\n",
    "    for row in range(n):\n",
    "        for column in range(row+1):\n",
    "            print('* ',end='')\n",
    "        for column in range(2*(n-row-1)):\n",
    "            print('  ',end='')\n",
    "        for column in range(row+1):\n",
    "            print('* ',end='')\n",
    "        print('\\n')\n",
    "\n",
    "try:\n",
    "    user_input = int(input('\\nEnter no. of lines for Hollow Embedded Diamond Pattern :'))\n",
    "    hollow_embedded_diamond(user_input)\n",
    "except Exception as e:\n",
    "    print(\"Invalid input. Using default values, n = 5.\")\n",
    "    hollow_embedded_diamond()  # Use default values in case of invalid input\n",
    "    print(f'\\nDue to invalid input following error occurred: {e}')"
   ]
  },
  {
   "cell_type": "markdown",
   "metadata": {},
   "source": [
    "## Hollow Numeric Pyramid"
   ]
  },
  {
   "cell_type": "code",
   "execution_count": 20,
   "metadata": {},
   "outputs": [
    {
     "name": "stdout",
     "output_type": "stream",
     "text": [
      "\n",
      "Hollow Numeric Pyramid pattern :\n",
      "\n",
      "    1 \n",
      "\n",
      "   1 2 \n",
      "\n",
      "  1   3 \n",
      "\n",
      " 1     4 \n",
      "\n",
      "1 2 3 4 5 \n",
      "\n"
     ]
    }
   ],
   "source": [
    "def hollow_numeric_pyramid(n = 5):\n",
    "    print('\\nHollow Numeric Pyramid pattern :\\n')\n",
    "    for row in range(n):\n",
    "        for column in range(n-row-1):\n",
    "            print(f' ',end='')\n",
    "        for column in range(row+1):\n",
    "            if column == 0 or column == row or row == n-1:\n",
    "                print(f'{column+1} ',end='')\n",
    "            else:\n",
    "                print(f'  ',end='')\n",
    "        print('\\n')\n",
    "    \n",
    "try:\n",
    "    user_input = int(input('\\nEnter no. of lines for Hollow Numeric Pyramid pattern : '))\n",
    "    hollow_numeric_pyramid(user_input)\n",
    "except Exception as e:\n",
    "    print(\"Invalid input. Using default values, n = 5.\")\n",
    "    hollow_numeric_pyramid()  # Use default values in case of invalid input\n",
    "    print(f'\\nDue to invalid input following error occurred: {e}')"
   ]
  },
  {
   "cell_type": "markdown",
   "metadata": {},
   "source": [
    "## Hollow Inverted Numeric Pyramid"
   ]
  },
  {
   "cell_type": "code",
   "execution_count": 21,
   "metadata": {},
   "outputs": [
    {
     "name": "stdout",
     "output_type": "stream",
     "text": [
      "\n",
      "Hollow Inverted Numeric Pyramid pattern :\n",
      "\n",
      "1 2 3 4 5 \n",
      "\n",
      " 1     4 \n",
      "\n",
      "  1   3 \n",
      "\n",
      "   1 2 \n",
      "\n",
      "    1 \n",
      "\n"
     ]
    }
   ],
   "source": [
    "def inverted_hollow_numeric_pyramid(n = 5):\n",
    "    print('\\nHollow Inverted Numeric Pyramid pattern :\\n')\n",
    "    for row in range(n):\n",
    "        for column in range(row):\n",
    "            print(f' ',end='')\n",
    "        for column in range(n-row):\n",
    "            if column == 0 or column == n-row-1 or row == 0:\n",
    "                print(f'{column+1} ',end='')\n",
    "            else:\n",
    "                print(f'  ',end='')\n",
    "        print('\\n')\n",
    "    \n",
    "try:\n",
    "    user_input = int(input('\\nEnter no. of lines for Hollow Inverted Numeric Pyramid pattern : '))\n",
    "    inverted_hollow_numeric_pyramid(user_input)\n",
    "except Exception as e:\n",
    "    print(\"Invalid input. Using default values, n = 5.\")\n",
    "    inverted_hollow_numeric_pyramid()  # Use default values in case of invalid input\n",
    "    print(f'\\nDue to invalid input following error occurred: {e}')"
   ]
  },
  {
   "cell_type": "markdown",
   "metadata": {},
   "source": [
    "## Numeric Pyramid Pattern"
   ]
  },
  {
   "cell_type": "code",
   "execution_count": 22,
   "metadata": {},
   "outputs": [
    {
     "name": "stdout",
     "output_type": "stream",
     "text": [
      "\n",
      "Numeric Pyramid pattern :\n",
      "\n",
      "        1 \n",
      "\n",
      "      2 3 2 \n",
      "\n",
      "    3 4 5 4 3 \n",
      "\n",
      "  4 5 6 7 6 5 4 \n",
      "\n",
      "5 6 7 8 9 8 7 6 5 \n",
      "\n"
     ]
    }
   ],
   "source": [
    "def numeric_pyramid(n = 5):\n",
    "    print('\\nNumeric Pyramid pattern :\\n')\n",
    "    for row in range(n):\n",
    "        for column in range(n-row-1):\n",
    "            print(f'  ',end='')\n",
    "        for column in range(row):\n",
    "            print(f'{column + row + 1} ',end='')\n",
    "        for column in range(2*row+1,row,-1):\n",
    "            print(f'{column} ',end='')\n",
    "        print('\\n')\n",
    "    \n",
    "try:\n",
    "    user_input = int(input('\\nEnter no. of lines for Numeric Pyramid pattern : '))\n",
    "    numeric_pyramid(user_input)\n",
    "except Exception as e:\n",
    "    print(\"Invalid input. Using default values, n = 5.\")\n",
    "    numeric_pyramid()  # Use default values in case of invalid input\n",
    "    print(f'\\nDue to invalid input following error occurred: {e}')"
   ]
  },
  {
   "cell_type": "markdown",
   "metadata": {},
   "source": [
    "## Inverted Numeric Pyramid"
   ]
  },
  {
   "cell_type": "code",
   "execution_count": 23,
   "metadata": {},
   "outputs": [
    {
     "name": "stdout",
     "output_type": "stream",
     "text": [
      "\n",
      "Inverted Numeric Pyramid pattern :\n",
      "\n",
      "5 6 7 8 9 8 7 6 5 \n",
      "\n",
      "  4 5 6 7 6 5 4 \n",
      "\n",
      "    3 4 5 4 3 \n",
      "\n",
      "      2 3 2 \n",
      "\n",
      "        1 \n",
      "\n"
     ]
    }
   ],
   "source": [
    "def inverted_numeric_pyramid(n = 5):\n",
    "    print('\\nInverted Numeric Pyramid pattern :\\n')\n",
    "    for row in range(n,0,-1):\n",
    "        for column in range(n-row):\n",
    "            print(f'  ',end='')\n",
    "        for column in range(row,2*row):\n",
    "            print(f'{column} ',end='')\n",
    "        for column in range(2*row-2,row-1,-1):\n",
    "            print(f'{column} ',end='')\n",
    "        print('\\n')\n",
    "    \n",
    "try:\n",
    "    user_input = int(input('\\nEnter no. of lines for Inverted Numeric Pyramid pattern : '))\n",
    "    inverted_numeric_pyramid(user_input)\n",
    "except Exception as e:\n",
    "    print(\"Invalid input. Using default values, n = 5.\")\n",
    "    inverted_numeric_pyramid()  # Use default values in case of invalid input\n",
    "    print(f'\\nDue to invalid input following error occurred: {e}')"
   ]
  },
  {
   "cell_type": "markdown",
   "metadata": {},
   "source": [
    "## Butterfly Pattern"
   ]
  },
  {
   "cell_type": "code",
   "execution_count": 24,
   "metadata": {},
   "outputs": [
    {
     "name": "stdout",
     "output_type": "stream",
     "text": [
      "\n",
      "Butterfly pattern :\n",
      "\n",
      "*                 * \n",
      "\n",
      "* *             * * \n",
      "\n",
      "* * *         * * * \n",
      "\n",
      "* * * *     * * * * \n",
      "\n",
      "* * * * * * * * * * \n",
      "\n",
      "* * * * * * * * * * \n",
      "\n",
      "* * * *     * * * * \n",
      "\n",
      "* * *         * * * \n",
      "\n",
      "* *             * * \n",
      "\n",
      "*                 * \n",
      "\n"
     ]
    }
   ],
   "source": [
    "def butterfly(n = 5):\n",
    "    print('\\nButterfly pattern :\\n')\n",
    "    for row in range(n):\n",
    "        for column in range(row+1):\n",
    "            print('* ',end='')\n",
    "        for column in range(2*(n-row-1)):\n",
    "            print('  ',end='')\n",
    "        for column in range(row+1):\n",
    "            print('* ',end='')\n",
    "        print('\\n')\n",
    "    for row in range(n):\n",
    "        for column in range(n-row):\n",
    "            print('* ',end='')\n",
    "        for column in range(2*row):\n",
    "            print('  ',end='')\n",
    "        for column in range(n-row):\n",
    "            print('* ',end='')\n",
    "        print('\\n')\n",
    "\n",
    "try:\n",
    "    user_input = int(input('\\nEnter no. of lines for Butterfly pattern : '))\n",
    "    butterfly(user_input)\n",
    "except Exception as e:\n",
    "    print(\"Invalid input. Using default values, n = 5.\")\n",
    "    butterfly()  # Use default values in case of invalid input\n",
    "    print(f'\\nDue to invalid input following error occurred: {e}')"
   ]
  },
  {
   "cell_type": "markdown",
   "metadata": {},
   "source": [
    "## Numeric Butterfly"
   ]
  },
  {
   "cell_type": "code",
   "execution_count": 25,
   "metadata": {},
   "outputs": [
    {
     "name": "stdout",
     "output_type": "stream",
     "text": [
      "\n",
      "Numeric Butterfly pattern :\n",
      "\n",
      "1                 1 \n",
      "\n",
      "1 2             2 1 \n",
      "\n",
      "1 2 3         3 2 1 \n",
      "\n",
      "1 2 3 4     4 3 2 1 \n",
      "\n",
      "1 2 3 4 5 5 4 3 2 1 \n",
      "\n",
      "1 2 3 4 5 5 4 3 2 1 \n",
      "\n",
      "1 2 3 4     4 3 2 1 \n",
      "\n",
      "1 2 3         3 2 1 \n",
      "\n",
      "1 2             2 1 \n",
      "\n",
      "1                 1 \n",
      "\n"
     ]
    }
   ],
   "source": [
    "def numeric_butterfly(n = 5):\n",
    "    print('\\nNumeric Butterfly pattern :\\n')\n",
    "    for row in range(n):\n",
    "        for column in range(row+1):\n",
    "            print(f'{column+1} ', end='')\n",
    "        for column in range(2*(n-row-1)):\n",
    "            print(f'  ', end='')\n",
    "        for column in range(row+1,0,-1):\n",
    "            print(f'{column} ', end='')\n",
    "        print('\\n')\n",
    "    for row in range(n):\n",
    "        for column in range(n-row):\n",
    "            print(f'{column+1} ', end='')\n",
    "        for column in range(2*row):\n",
    "            print(f'  ', end='')\n",
    "        for column in range(n-row,0,-1):\n",
    "            print(f'{column} ', end='')\n",
    "        print('\\n')\n",
    "\n",
    "try:\n",
    "    user_input = int(input('\\nEnter no. of lines for Numeric Butterfly pattern : '))\n",
    "    numeric_butterfly(user_input)\n",
    "except Exception as e:\n",
    "    print(\"Invalid input. Using default values, n = 5.\")\n",
    "    numeric_butterfly()  # Use default values in case of invalid input\n",
    "    print(f'\\nDue to invalid input following error occurred: {e}')"
   ]
  },
  {
   "cell_type": "markdown",
   "metadata": {},
   "source": [
    "## Numeric Palindrome Equilateral Pyramid"
   ]
  },
  {
   "cell_type": "code",
   "execution_count": 26,
   "metadata": {},
   "outputs": [
    {
     "name": "stdout",
     "output_type": "stream",
     "text": [
      "\n",
      "Numeric Palindrome Equilateral pattern :\n",
      "\n",
      "        1 \n",
      "\n",
      "      1 2 1 \n",
      "\n",
      "    1 2 3 2 1 \n",
      "\n",
      "  1 2 3 4 3 2 1 \n",
      "\n",
      "1 2 3 4 5 4 3 2 1 \n",
      "\n"
     ]
    }
   ],
   "source": [
    "def numeric_palindrome_equilateral_pyramid(n = 5):\n",
    "    print('\\nNumeric Palindrome Equilateral pattern :\\n')\n",
    "    for row in range(n):\n",
    "        for column in range(n-row-1):\n",
    "            print('  ', end='')\n",
    "        for column in range(row+1):\n",
    "            print(f'{column+1} ', end='')\n",
    "        for column in range(row,0,-1):\n",
    "            print(f'{column} ', end='')\n",
    "        print('\\n')\n",
    "\n",
    "try:\n",
    "    user_input = int(input('\\nEnter no. of lines for Numeric Palindrome Equilateral pattern : '))\n",
    "    numeric_palindrome_equilateral_pyramid(user_input)\n",
    "except Exception as e:\n",
    "    print(\"Invalid input. Using default values, n = 5.\")\n",
    "    numeric_palindrome_equilateral_pyramid()  # Use default values in case of invalid input\n",
    "    print(f'\\nDue to invalid input following error occurred: {e}')"
   ]
  },
  {
   "cell_type": "markdown",
   "metadata": {},
   "source": [
    "## Alphabet Palindrome Pattern\n",
    "\n",
    "Note:- Use Python chr() function is used to get a string representing of a character which points to a Unicode code integer.\n",
    "\n",
    "For example:- \n",
    "- `chr(65) returns string 'A'`\n",
    "- `chr(97) returns string 'a'`\n"
   ]
  },
  {
   "cell_type": "code",
   "execution_count": 27,
   "metadata": {},
   "outputs": [
    {
     "name": "stdout",
     "output_type": "stream",
     "text": [
      "\n",
      "Alphabet Palindrome pattern :\n",
      "\n",
      "A \n",
      "\n",
      "A B A \n",
      "\n",
      "A B C B A \n",
      "\n",
      "A B C D C B A \n",
      "\n",
      "A B C D E D C B A \n",
      "\n"
     ]
    }
   ],
   "source": [
    "def alphabet_palindrome(n = 5):\n",
    "    print('\\nAlphabet Palindrome pattern :\\n')\n",
    "    start = 65\n",
    "    for row in range(n):\n",
    "        for column in range(row+1):\n",
    "            print(f'{chr(start + column)} ', end='')\n",
    "        for column in range(row,0,-1):\n",
    "            print(f'{chr(start + column - 1)} ', end='')\n",
    "        print('\\n')\n",
    "\n",
    "try:\n",
    "    user_input = int(input('\\nEnter no. of lines for Alphabet Palindrome pattern : '))\n",
    "    alphabet_palindrome(user_input)\n",
    "except Exception as e:\n",
    "    print(\"Invalid input. Using default values, n = 5.\")\n",
    "    alphabet_palindrome()  # Use default values in case of invalid input\n",
    "    print(f'\\nDue to invalid input following error occurred: {e}')"
   ]
  },
  {
   "cell_type": "markdown",
   "metadata": {},
   "source": [
    "# Alphabetic Decreasing - Increasing Triangle Pattern"
   ]
  },
  {
   "cell_type": "code",
   "execution_count": 28,
   "metadata": {},
   "outputs": [
    {
     "name": "stdout",
     "output_type": "stream",
     "text": [
      "\n",
      "Alphabetic Decreasing - Increasing Triangle Pattern : \n",
      "\n",
      "E \n",
      "\n",
      "D E \n",
      "\n",
      "C D E \n",
      "\n",
      "B C D E \n",
      "\n",
      "A B C D E \n",
      "\n"
     ]
    }
   ],
   "source": [
    "def alphabetic_decreasing_increasing_trianlge(n = 5):\n",
    "    print(\"\\nAlphabetic Decreasing - Increasing Triangle Pattern : \\n\")\n",
    "    for row in range(1, n+1):\n",
    "        ch = 65 + n - row\n",
    "        for column in range(0, row):\n",
    "            print(f'{chr(ch + column)} ',end='')\n",
    "        print('\\n')\n",
    "\n",
    "try:\n",
    "    user_input = int(input('\\nEnter no. of lines for Alphabetic Decreasing - Increasing Triangle Pattern : '))\n",
    "    alphabetic_decreasing_increasing_trianlge(user_input)\n",
    "except Exception as e:\n",
    "    print(\"Invalid input. Using default values, n = 5.\")\n",
    "    alphabetic_decreasing_increasing_trianlge()  # Use default values in case of invalid input\n",
    "    print(f'\\nDue to invalid input following error occurred: {e}')"
   ]
  },
  {
   "cell_type": "markdown",
   "metadata": {},
   "source": [
    "## Sand Clock / Hour Glass Pattern"
   ]
  },
  {
   "cell_type": "code",
   "execution_count": 29,
   "metadata": {},
   "outputs": [
    {
     "name": "stdout",
     "output_type": "stream",
     "text": [
      "\n",
      "Sand Clock  / Hour Glass pattern :\n",
      "\n",
      "* * * * * * * * * * * \n",
      "\n",
      "*   * * * * * * *   * \n",
      "\n",
      "*     * * * * *     * \n",
      "\n",
      "*       * * *       * \n",
      "\n",
      "*         *         * \n",
      "\n",
      "*         *         * \n",
      "\n",
      "*       * * *       * \n",
      "\n",
      "*     * * * * *     * \n",
      "\n",
      "*   * * * * * * *   * \n",
      "\n",
      "* * * * * * * * * * * \n",
      "\n"
     ]
    }
   ],
   "source": [
    "def sand_clock(n = 5):\n",
    "    print('\\nSand Clock  / Hour Glass pattern :\\n')\n",
    "    for row in range(n):\n",
    "        for column in range(row+1):\n",
    "            if column == 0:\n",
    "                print('* ',end='')\n",
    "            else:\n",
    "                print('  ',end='')\n",
    "        for column in range(2*(n-row)-1):\n",
    "            print('* ',end='')\n",
    "        for column in range(row+1):\n",
    "            if column == row:\n",
    "                print('* ',end='')\n",
    "            else:\n",
    "                print('  ',end='')\n",
    "        print('\\n')\n",
    "    for row in range(n):\n",
    "        for column in range(n-row):\n",
    "            if column == 0:\n",
    "                print('* ',end='')\n",
    "            else:\n",
    "                print('  ',end='')\n",
    "        for column in range(2*row+1):\n",
    "            print('* ',end='')\n",
    "        for column in range(n-row):\n",
    "            if column == n-row-1:\n",
    "                print('* ',end='')\n",
    "            else:\n",
    "                print('  ',end='')\n",
    "        print('\\n')\n",
    "\n",
    "try:\n",
    "    user_input = int(input('\\nEnter no. of lines for Sand Clock  / Hour Glass pattern : '))\n",
    "    sand_clock(user_input)\n",
    "except Exception as e:\n",
    "    print(\"Invalid input. Using default values, n = 5.\")\n",
    "    sand_clock()  # Use default values in case of invalid input\n",
    "    print(f'\\nDue to invalid input following error occurred: {e}')"
   ]
  },
  {
   "cell_type": "markdown",
   "metadata": {},
   "source": [
    "## **ALL TYPES OF FANCY PATTERNS :-**"
   ]
  },
  {
   "cell_type": "markdown",
   "metadata": {},
   "source": [
    "## Fancy Pattern 1"
   ]
  },
  {
   "cell_type": "code",
   "execution_count": 30,
   "metadata": {},
   "outputs": [
    {
     "name": "stdout",
     "output_type": "stream",
     "text": [
      "\n",
      "Fancy Pattern 1 :\n",
      "\n",
      "1\n",
      "\n",
      "2*2\n",
      "\n",
      "3*3*3\n",
      "\n",
      "4*4*4*4\n",
      "\n",
      "5*5*5*5*5\n",
      "\n",
      "5*5*5*5*5\n",
      "\n",
      "4*4*4*4\n",
      "\n",
      "3*3*3\n",
      "\n",
      "2*2\n",
      "\n",
      "1\n",
      "\n"
     ]
    }
   ],
   "source": [
    "def fancy_pattern_1(n = 5):\n",
    "    print('\\nFancy Pattern 1 :\\n')\n",
    "    for row in range(n):\n",
    "        for column in range(row+1):\n",
    "            if column == 0:\n",
    "                print(f'{row+1}', end='')\n",
    "            else:\n",
    "                print(f'*{row+1}', end='')\n",
    "        print('\\n')\n",
    "    for row in range(n,0,-1):\n",
    "        for column in range(row):\n",
    "            if column == 0:\n",
    "                print(f'{row}', end='')\n",
    "            else:\n",
    "                print(f'*{row}', end='')\n",
    "        print('\\n')\n",
    "\n",
    "try:\n",
    "    user_input = int(input('\\nEnter no. of lines for Fancy Pattern 1 : '))\n",
    "    fancy_pattern_1(user_input)\n",
    "except Exception as e:\n",
    "    print(\"Invalid input. Using default values, n = 5.\")\n",
    "    fancy_pattern_1()  # Use default values in case of invalid input\n",
    "    print(f'\\nDue to invalid input following error occurred: {e}')    "
   ]
  },
  {
   "cell_type": "markdown",
   "metadata": {},
   "source": [
    "## Fancy Pattern 2"
   ]
  },
  {
   "cell_type": "code",
   "execution_count": 31,
   "metadata": {},
   "outputs": [
    {
     "name": "stdout",
     "output_type": "stream",
     "text": [
      "\n",
      "Fancy Pattern 2 :\n",
      "\n",
      "* \n",
      "\n",
      "* 1 * \n",
      "\n",
      "* 1 2 1 * \n",
      "\n",
      "* 1 2 3 2 1 * \n",
      "\n",
      "* 1 2 3 4 3 2 1 * \n",
      "\n",
      "* 1 2 3 2 1 * \n",
      "\n",
      "* 1 2 1 * \n",
      "\n",
      "* 1 * \n",
      "\n",
      "* \n",
      "\n",
      "\n",
      "Fancy Pattern 2 with alternative solution :\n",
      "\n",
      "* \n",
      "\n",
      "* 1 * \n",
      "\n",
      "* 1 2 1 * \n",
      "\n",
      "* 1 2 3 2 1 * \n",
      "\n",
      "* 1 2 3 4 3 2 1 * \n",
      "\n",
      "* 1 2 3 2 1 * \n",
      "\n",
      "* 1 2 1 * \n",
      "\n",
      "* 1 * \n",
      "\n",
      "* \n",
      "\n"
     ]
    }
   ],
   "source": [
    "def fancy_pattern_2_a(n = 5):\n",
    "    print('\\nFancy Pattern 2 :\\n')\n",
    "    for row in range(n):\n",
    "        for column in range(row+1):\n",
    "            if column == 0:\n",
    "                print(f'* ', end='')\n",
    "            else:\n",
    "                print(f'{column} ', end='')\n",
    "        for column in range(row,0,-1):\n",
    "            if column == 1:\n",
    "                print(f'* ', end='')\n",
    "            else:\n",
    "                print(f'{column-1} ', end='')    \n",
    "        print('\\n')\n",
    "    for row in range(n-1,0,-1):\n",
    "        for column in range(row):\n",
    "            if column == 0:\n",
    "                print(f'* ', end='')\n",
    "            else:\n",
    "                print(f'{column} ', end='')\n",
    "        for column in range(row-1,0,-1):\n",
    "            if column == 1:\n",
    "                print(f'* ', end='')\n",
    "            else:\n",
    "                print(f'{column-1} ', end='')\n",
    "        print('\\n')\n",
    "\n",
    "    \n",
    "## Alternative Solution for Fancy Pattern 2\n",
    "def fancy_pattern_2_b(n = 5):\n",
    "    print('\\nFancy Pattern 2 with alternative solution :\\n')\n",
    "    for row in range(n):\n",
    "        count = 1\n",
    "        for column in range(2*row+1):\n",
    "            if column == 0 or column == 2*row:\n",
    "                print(f'* ', end='')    \n",
    "            elif column < row:\n",
    "                print(f'{count} ', end='')\n",
    "                count+=1\n",
    "            else:\n",
    "                print(f'{count} ', end='')\n",
    "                count-=1    \n",
    "        print('\\n')\n",
    "    for row in range(n-1,0,-1):\n",
    "        count = 1\n",
    "        for column in range(2*row-1):\n",
    "            if column == 0 or column == 2*row-2:\n",
    "                print(f'* ', end='')\n",
    "            elif column < row-1:\n",
    "                print(f'{count} ', end='')\n",
    "                count+=1\n",
    "            else:\n",
    "                print(f'{count} ', end='')\n",
    "                count-=1\n",
    "        print('\\n')\n",
    "\n",
    "try:\n",
    "    user_input = int(input('\\nEnter no. of lines for Fancy Pattern 2 : '))\n",
    "    fancy_pattern_2_a(user_input)\n",
    "    fancy_pattern_2_b(user_input)\n",
    "except Exception as e:\n",
    "    print(\"Invalid input. Using default values, n = 5.\")\n",
    "    fancy_pattern_2_a()  # Use default values in case of invalid input\n",
    "    fancy_pattern_2_b()  # Use default values in case of invalid input\n",
    "    print(f'\\nDue to invalid input following error occurred: {e}')    "
   ]
  },
  {
   "cell_type": "markdown",
   "metadata": {},
   "source": [
    "## Fancy Pattern 3"
   ]
  },
  {
   "cell_type": "code",
   "execution_count": 32,
   "metadata": {},
   "outputs": [
    {
     "name": "stdout",
     "output_type": "stream",
     "text": [
      "\n",
      "Fancy Pattern 3 :\n",
      "\n",
      "1\n",
      "\n",
      "2*3\n",
      "\n",
      "4*5*6\n",
      "\n",
      "7*8*9*10\n",
      "\n",
      "11*12*13*14*15\n",
      "\n",
      "11*12*13*14*15\n",
      "\n",
      "7*8*9*10\n",
      "\n",
      "4*5*6\n",
      "\n",
      "2*3\n",
      "\n",
      "1\n",
      "\n"
     ]
    }
   ],
   "source": [
    "def fancy_pattern_3(n = 5):\n",
    "    print('\\nFancy Pattern 3 :\\n')\n",
    "    count = 1\n",
    "    for row in range(n):\n",
    "        for column in range(row+1):\n",
    "            if column == 0:\n",
    "                print(f'{count}', end='')\n",
    "                count+=1\n",
    "            else:\n",
    "                print(f'*{count}', end='')\n",
    "                count+=1\n",
    "        print('\\n')\n",
    "    for row in range(n,0,-1):\n",
    "        count -= row\n",
    "        for column in range(row):\n",
    "            if column == 0:\n",
    "                print(f'{count + column}', end='')\n",
    "            else:\n",
    "                print(f'*{count + column}', end='')\n",
    "        print('\\n')\n",
    "\n",
    "try:\n",
    "    user_input = int(input('\\nEnter no. of lines for Fancy Pattern 3 : '))\n",
    "    fancy_pattern_3(user_input)\n",
    "except Exception as e:\n",
    "    print(\"Invalid input. Using default values, n = 5.\")\n",
    "    fancy_pattern_3()  # Use default values in case of invalid input\n",
    "    print(f'\\nDue to invalid input following error occurred: {e}')    "
   ]
  },
  {
   "cell_type": "markdown",
   "metadata": {},
   "source": [
    "## Fancy Pattern 4"
   ]
  },
  {
   "cell_type": "code",
   "execution_count": 33,
   "metadata": {},
   "outputs": [
    {
     "name": "stdout",
     "output_type": "stream",
     "text": [
      "\n",
      "Fancy Pattern 4 :\n",
      "\n",
      "********1********\n",
      "\n",
      "*******2*2*******\n",
      "\n",
      "******3*3*3******\n",
      "\n",
      "*****4*4*4*4*****\n",
      "\n",
      "****5*5*5*5*5****\n",
      "\n"
     ]
    }
   ],
   "source": [
    "def fancy_pattern_4(n = 5):\n",
    "    print('\\nFancy Pattern 4 :\\n')\n",
    "    for row in range(n):\n",
    "        flag = True\n",
    "        for column in range(17):\n",
    "            if column < 8-row or column > 8+row:\n",
    "                print('*',end='')\n",
    "            elif column >= 8-row and column <= 8+row:\n",
    "                if flag == True:\n",
    "                    print(f'{row+1}',end='')\n",
    "                    flag = False\n",
    "                else:\n",
    "                    print(f'*',end='') \n",
    "                    flag = True\n",
    "        print('\\n')\n",
    "\n",
    "try:\n",
    "    user_input = int(input('\\nNote:- maximum number possible for this pattern is 9.\\nEnter no. of lines for Fancy Pattern 4 (but not more than 9) : '))\n",
    "    fancy_pattern_4(user_input)\n",
    "except Exception as e:\n",
    "    print(\"Invalid input. Using default values, n = 5.\")\n",
    "    fancy_pattern_4()  # Use default values in case of invalid input\n",
    "    print(f'\\nDue to invalid input following error occurred: {e}')   "
   ]
  }
 ],
 "metadata": {
  "kernelspec": {
   "display_name": "pythonaiml_env",
   "language": "python",
   "name": "python3"
  },
  "language_info": {
   "codemirror_mode": {
    "name": "ipython",
    "version": 3
   },
   "file_extension": ".py",
   "mimetype": "text/x-python",
   "name": "python",
   "nbconvert_exporter": "python",
   "pygments_lexer": "ipython3",
   "version": "3.12.4"
  }
 },
 "nbformat": 4,
 "nbformat_minor": 2
}
